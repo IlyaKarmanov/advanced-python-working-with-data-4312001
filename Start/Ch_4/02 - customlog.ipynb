{
 "cells": [
  {
   "cell_type": "code",
   "execution_count": 1,
   "metadata": {},
   "outputs": [],
   "source": [
    "# Demonstrate how to customize logging output\n",
    "\n",
    "import logging\n",
    "\n",
    "# TODO: add another function to log from\n",
    "def another_function():\n",
    "    logging.debug(\"This is a debug level log message\", extra=extdata)\n",
    "\n",
    "# set the output file and debug level, and\n",
    "# TODO: use a custom formatting \n",
    "fmtstr = \"User: %(user)s %(asctime)s: %(levelname)s: %(funcName)s Line:%(lineno)d %(message)s\"\n",
    "datestr = \"%m/%d/%Y %I:%M:%S %p\"\n",
    "extdata = {\"user\": \"some_mail@example.com\"}\n",
    "\n",
    "\n",
    "logging.basicConfig(filename=\"output.log\",\n",
    "                    level=logging.DEBUG,\n",
    "                    format=fmtstr,\n",
    "                    datefmt=datestr)\n",
    "\n",
    "logging.info(\"This is an info-level log message\", extra=extdata)\n",
    "logging.warning(\"This is a warning-level message\", extra=extdata)\n",
    "another_function()\n",
    "\n"
   ]
  },
  {
   "cell_type": "code",
   "execution_count": null,
   "metadata": {},
   "outputs": [],
   "source": []
  }
 ],
 "metadata": {
  "kernelspec": {
   "display_name": "Python 3",
   "language": "python",
   "name": "python3"
  },
  "language_info": {
   "codemirror_mode": {
    "name": "ipython",
    "version": 3
   },
   "file_extension": ".py",
   "mimetype": "text/x-python",
   "name": "python",
   "nbconvert_exporter": "python",
   "pygments_lexer": "ipython3",
   "version": "3.10.12"
  }
 },
 "nbformat": 4,
 "nbformat_minor": 2
}
