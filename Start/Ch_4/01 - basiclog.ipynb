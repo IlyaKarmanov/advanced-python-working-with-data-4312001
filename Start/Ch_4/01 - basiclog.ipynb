{
 "cells": [
  {
   "cell_type": "code",
   "execution_count": 2,
   "metadata": {},
   "outputs": [],
   "source": [
    "# demonstrate the logging api in Python\n",
    "\n",
    "# TODO: use the built-in logging module\n",
    "import logging\n",
    "\n",
    "# TODO: Use basicConfig to configure logging\n",
    "logging.basicConfig(level=logging.DEBUG, filename=\"output.log\", filemode=\"w\")\n",
    "\n",
    "# TODO: Try out each of the log levels\n",
    "logging.debug(\"This is a debug-level message\")\n",
    "logging.info(\"This is a info-level message\")\n",
    "#start from this by default\n",
    "logging.warning(\"This is a warning-level message\")\n",
    "logging.error(\"This is a error-level message\")\n",
    "logging.critical(\"This is a critical-level message\")\n",
    "\n",
    "# TODO: Output formatted strings to the log\n",
    "x = \"string\"\n",
    "y = 10\n",
    "\n",
    "logging.info(f\"Here's a {x} variable and ing: {y}\")"
   ]
  }
 ],
 "metadata": {
  "kernelspec": {
   "display_name": "Python 3",
   "language": "python",
   "name": "python3"
  },
  "language_info": {
   "codemirror_mode": {
    "name": "ipython",
    "version": 3
   },
   "file_extension": ".py",
   "mimetype": "text/x-python",
   "name": "python",
   "nbconvert_exporter": "python",
   "pygments_lexer": "ipython3",
   "version": "3.10.12"
  }
 },
 "nbformat": 4,
 "nbformat_minor": 2
}
