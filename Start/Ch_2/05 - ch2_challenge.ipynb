{
 "cells": [
  {
   "cell_type": "code",
   "execution_count": 4,
   "metadata": {},
   "outputs": [
    {
     "data": {
      "text/plain": [
       "{'earthquake': 11558,\n",
       " 'explosion': 85,\n",
       " 'quarry blast': 81,\n",
       " 'ice quake': 17,\n",
       " 'other event': 4}"
      ]
     },
     "execution_count": 4,
     "metadata": {},
     "output_type": "execute_result"
    }
   ],
   "source": [
    "# Example file for Advanced Python: Working With Data by Joe Marini\n",
    "# Programming challenge: use advanced data collections on the earthquake data\n",
    "\n",
    "import json\n",
    "from collections import defaultdict\n",
    "\n",
    "\n",
    "# open the data file and load the JSON\n",
    "with open(\"../../30DayQuakes.json\", \"r\") as datafile:\n",
    "    data = json.load(datafile)\n",
    "\n",
    "totals = defaultdict(int)\n",
    "\n",
    "for event in data[\"features\"]:\n",
    "    totals[event[\"properties\"][\"type\"]] += 1\n",
    "    \n",
    "dict(totals)"
   ]
  }
 ],
 "metadata": {
  "kernelspec": {
   "display_name": "Python 3",
   "language": "python",
   "name": "python3"
  },
  "language_info": {
   "codemirror_mode": {
    "name": "ipython",
    "version": 3
   },
   "file_extension": ".py",
   "mimetype": "text/x-python",
   "name": "python",
   "nbconvert_exporter": "python",
   "pygments_lexer": "ipython3",
   "version": "3.10.12"
  }
 },
 "nbformat": 4,
 "nbformat_minor": 2
}
