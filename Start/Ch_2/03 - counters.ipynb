{
 "cells": [
  {
   "cell_type": "code",
   "execution_count": 18,
   "metadata": {},
   "outputs": [
    {
     "name": "stdout",
     "output_type": "stream",
     "text": [
      "Counter({'James': 2, 'Bob': 1, 'Chad': 1, 'Darcy': 1, 'Penny': 1, 'Hannah': 1, 'Kevin': 1, 'Melanie': 1, 'Becky': 1, 'Steve': 1, 'Frank': 1})\n",
      "2\n",
      "12 Students in class 1\n",
      "3\n",
      "24 Students in class 1\n"
     ]
    }
   ],
   "source": [
    "# Demonstrate the usage of Counter objects\n",
    "from collections import Counter\n",
    "\n",
    "\n",
    "# list of students in class 1\n",
    "class1 = [\"Bob\", \"James\", \"Chad\", \"Darcy\", \"Penny\", \"Hannah\",\n",
    "          \"Kevin\", \"James\", \"Melanie\", \"Becky\", \"Steve\", \"Frank\"]\n",
    "\n",
    "# list of students in class 2\n",
    "class2 = [\"Bill\", \"Barry\", \"Cindy\", \"Debbie\", \"Frank\",\n",
    "          \"Gabby\", \"Kelly\", \"James\", \"Joe\", \"Sam\", \"Tara\", \"Ziggy\"]\n",
    "\n",
    "# TODO: Create a Counter for class1 and class2\n",
    "c1 = Counter(class1)\n",
    "c2 = Counter(class2)\n",
    "print(c1)\n",
    "\n",
    "# TODO: How many students in class 1 named James?\n",
    "print(c1[\"James\"])\n",
    "\n",
    "# TODO: How many students are in class 1?\n",
    "print(sum(c1.values()),\"Students in class 1\")\n",
    "\n",
    "# TODO: Combine the two classes\n",
    "c1.update(class2)  # or c1.update(c2)\n",
    "print(c1[\"James\"])\n",
    "print(sum(c1.values()),\"Students in class 1\")"
   ]
  },
  {
   "cell_type": "code",
   "execution_count": 19,
   "metadata": {},
   "outputs": [
    {
     "name": "stdout",
     "output_type": "stream",
     "text": [
      "[('James', 3), ('Frank', 2), ('Bob', 1)]\n",
      "2\n",
      "12 Students in class 1\n"
     ]
    }
   ],
   "source": [
    "# TODO: What's the most common name in the two classes?\n",
    "print(c1.most_common(3))  # top 3 most common names\n",
    "\n",
    "# TODO: Separate the classes again\n",
    "c1.subtract(class2)  # or c2 instead of class2\n",
    "print(c1[\"James\"])\n",
    "print(sum(c1.values()),\"Students in class 1\")"
   ]
  },
  {
   "cell_type": "code",
   "execution_count": 20,
   "metadata": {},
   "outputs": [
    {
     "name": "stdout",
     "output_type": "stream",
     "text": [
      "Counter({'James': 1, 'Frank': 1})\n"
     ]
    }
   ],
   "source": [
    "# TODO: What's common between the two classes?\n",
    "print(c1 & c2)"
   ]
  }
 ],
 "metadata": {
  "kernelspec": {
   "display_name": "Python 3",
   "language": "python",
   "name": "python3"
  },
  "language_info": {
   "codemirror_mode": {
    "name": "ipython",
    "version": 3
   },
   "file_extension": ".py",
   "mimetype": "text/x-python",
   "name": "python",
   "nbconvert_exporter": "python",
   "pygments_lexer": "ipython3",
   "version": "3.10.12"
  }
 },
 "nbformat": 4,
 "nbformat_minor": 2
}
