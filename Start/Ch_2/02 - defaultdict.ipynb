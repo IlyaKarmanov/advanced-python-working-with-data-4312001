{
 "cells": [
  {
   "cell_type": "code",
   "execution_count": 2,
   "metadata": {},
   "outputs": [
    {
     "name": "stdout",
     "output_type": "stream",
     "text": [
      "{'apple': 2, 'pear': 1, 'orange': 1, 'banana': 3, 'grape': 1}\n"
     ]
    }
   ],
   "source": [
    "# Demonstrate the usage of defaultdict objects\n",
    "\n",
    "from collections import defaultdict\n",
    "\n",
    "\n",
    "# define a list of items that we want to count\n",
    "fruits = ['apple', 'pear', 'orange', 'banana',\n",
    "          'apple', 'grape', 'banana', 'banana']\n",
    "\n",
    "# TODO: use a dictionary to count each element\n",
    "fruitCounter = dict()\n",
    "\n",
    "# TODO: Count the elements in the list\n",
    "for fruit in fruits:\n",
    "    if fruit in fruitCounter.keys():\n",
    "        fruitCounter[fruit] += 1\n",
    "    else:\n",
    "        fruitCounter[fruit] = 1\n",
    "\n",
    "# TODO: print the result\n",
    "print(fruitCounter)"
   ]
  },
  {
   "cell_type": "code",
   "execution_count": 3,
   "metadata": {},
   "outputs": [
    {
     "name": "stdout",
     "output_type": "stream",
     "text": [
      "defaultdict(<class 'int'>, {'apple': 1, 'pear': 1, 'orange': 1, 'banana': 1, 'grape': 1})\n"
     ]
    }
   ],
   "source": [
    "# same but with the defaultdict object (int could be any object)\n",
    "fruitCounter = defaultdict(int)\n",
    "\n",
    "for fruit in fruits:\n",
    "    fruitCounter[fruit] =+1\n",
    "\n",
    "print(fruitCounter)"
   ]
  },
  {
   "cell_type": "code",
   "execution_count": 4,
   "metadata": {},
   "outputs": [
    {
     "name": "stdout",
     "output_type": "stream",
     "text": [
      "defaultdict(<function <lambda> at 0x7c93601ef880>, {'apple': 1, 'pear': 1, 'orange': 1, 'banana': 1, 'grape': 1})\n"
     ]
    }
   ],
   "source": [
    "# same but with the defaultdict object\n",
    "fruitCounter = defaultdict(lambda: 100)\n",
    "\n",
    "for fruit in fruits:\n",
    "    fruitCounter[fruit] =+1\n",
    "\n",
    "print(fruitCounter)"
   ]
  },
  {
   "cell_type": "code",
   "execution_count": null,
   "metadata": {},
   "outputs": [],
   "source": []
  }
 ],
 "metadata": {
  "kernelspec": {
   "display_name": "Python 3",
   "language": "python",
   "name": "python3"
  },
  "language_info": {
   "codemirror_mode": {
    "name": "ipython",
    "version": 3
   },
   "file_extension": ".py",
   "mimetype": "text/x-python",
   "name": "python",
   "nbconvert_exporter": "python",
   "pygments_lexer": "ipython3",
   "version": "3.10.12"
  }
 },
 "nbformat": 4,
 "nbformat_minor": 2
}
