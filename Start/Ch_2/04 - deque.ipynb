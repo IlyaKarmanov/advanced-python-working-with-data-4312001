{
 "cells": [
  {
   "cell_type": "code",
   "execution_count": 5,
   "metadata": {},
   "outputs": [
    {
     "name": "stdout",
     "output_type": "stream",
     "text": [
      "Item count: 26\n",
      "A\n",
      "B\n",
      "C\n",
      "D\n",
      "E\n",
      "F\n",
      "G\n",
      "H\n",
      "I\n",
      "J\n",
      "K\n",
      "L\n",
      "M\n",
      "N\n",
      "O\n",
      "P\n",
      "Q\n",
      "R\n",
      "S\n",
      "T\n",
      "U\n",
      "V\n",
      "W\n",
      "X\n",
      "Y\n",
      "Z\n"
     ]
    }
   ],
   "source": [
    "# deque objects are like double-ended queues\n",
    "import collections\n",
    "import string\n",
    "\n",
    "# TODO: initialize a deque with lowercase letters\n",
    "d = collections.deque(string.ascii_lowercase)\n",
    "\n",
    "# TODO: deques support the len() function\n",
    "print(f'Item count: {len(d)}')\n",
    "\n",
    "# TODO: deques can be iterated over\n",
    "for elem in d:\n",
    "    print(elem.upper())"
   ]
  },
  {
   "cell_type": "code",
   "execution_count": 9,
   "metadata": {},
   "outputs": [
    {
     "name": "stdout",
     "output_type": "stream",
     "text": [
      "deque([1, 'c', 'd', 'e', 'f', 'g', 'h', 'i', 'j', 'k', 'l', 'm', 'n', 'o', 'p', 'q', 'r', 's', 't', 'u', 'v', 'w', 2])\n"
     ]
    }
   ],
   "source": [
    "# TODO: manipulate items from either end\n",
    "d.pop()  # remove (pop) one item from the right (end)\n",
    "d.popleft()  # remove (pop) one item from the left (beginning)\n",
    "d.append(2)  # add item to the right (end)\n",
    "d.appendleft(1)  # add item to the left (beginning)\n",
    "print(d)"
   ]
  },
  {
   "cell_type": "code",
   "execution_count": 10,
   "metadata": {},
   "outputs": [
    {
     "name": "stdout",
     "output_type": "stream",
     "text": [
      "deque([2, 1, 'c', 'd', 'e', 'f', 'g', 'h', 'i', 'j', 'k', 'l', 'm', 'n', 'o', 'p', 'q', 'r', 's', 't', 'u', 'v', 'w'])\n"
     ]
    }
   ],
   "source": [
    "# TODO: use an index to get a particular item\n",
    "d.rotate(1)  # one item from the end goes to the start\n",
    "print(d)"
   ]
  }
 ],
 "metadata": {
  "kernelspec": {
   "display_name": "Python 3",
   "language": "python",
   "name": "python3"
  },
  "language_info": {
   "codemirror_mode": {
    "name": "ipython",
    "version": 3
   },
   "file_extension": ".py",
   "mimetype": "text/x-python",
   "name": "python",
   "nbconvert_exporter": "python",
   "pygments_lexer": "ipython3",
   "version": "3.10.12"
  }
 },
 "nbformat": 4,
 "nbformat_minor": 2
}
