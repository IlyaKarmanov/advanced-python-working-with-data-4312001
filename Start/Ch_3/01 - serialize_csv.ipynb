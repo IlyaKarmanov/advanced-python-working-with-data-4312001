{
 "cells": [
  {
   "cell_type": "code",
   "execution_count": 6,
   "metadata": {},
   "outputs": [],
   "source": [
    "# Example file for Advanced Python: Working With Data by Joe Marini\n",
    "# demonstrates how to serialize data to a CSV file\n",
    "\n",
    "import csv\n",
    "import json\n",
    "import datetime\n",
    "\n",
    "# read in the contents of the JSON file\n",
    "with open(\"../../30DayQuakes.json\", \"r\") as datafile:\n",
    "    data = json.load(datafile)\n",
    "\n",
    "\n",
    "def isbig(x):\n",
    "    mag = x[\"properties\"][\"mag\"]\n",
    "    return mag is not None and mag > 5\n",
    "\n",
    "\n",
    "# Filter the data by quakes that are larger than 5 magnitude\n",
    "largequakes = list(filter(isbig, data[\"features\"]))\n",
    "\n",
    "# TODO: Create the header and row structures for the data\n",
    "header = [\"Place\", \"Magnitude\", \"Link\", \"Date\"]\n",
    "rows = []\n",
    "\n",
    "# TODO: populate the rows with the resulting quake data\n",
    "for quake in largequakes:\n",
    "    thedate = datetime.date.fromtimestamp(int(quake[\"properties\"][\"time\"]/1000))\n",
    "    rows.append([quake[\"properties\"][\"place\"], \n",
    "                 quake[\"properties\"][\"mag\"],\n",
    "                 quake[\"properties\"][\"url\"],\n",
    "                 thedate])\n",
    "    \n",
    "# TODO: write the results to the CSV file\n",
    "with open(\"largequakes.csv\",\"w\") as csvfile:\n",
    "    writer = csv.writer(csvfile, delimiter=\",\")\n",
    "    writer.writerow(header)\n",
    "    writer.writerows(rows)\n"
   ]
  }
 ],
 "metadata": {
  "kernelspec": {
   "display_name": "Python 3",
   "language": "python",
   "name": "python3"
  },
  "language_info": {
   "codemirror_mode": {
    "name": "ipython",
    "version": 3
   },
   "file_extension": ".py",
   "mimetype": "text/x-python",
   "name": "python",
   "nbconvert_exporter": "python",
   "pygments_lexer": "ipython3",
   "version": "3.10.12"
  }
 },
 "nbformat": 4,
 "nbformat_minor": 2
}
