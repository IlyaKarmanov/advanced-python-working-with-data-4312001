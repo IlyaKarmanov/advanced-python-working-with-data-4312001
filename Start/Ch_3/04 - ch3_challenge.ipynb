{
 "cells": [
  {
   "cell_type": "code",
   "execution_count": 2,
   "metadata": {},
   "outputs": [],
   "source": [
    "# Example file for Advanced Python: Working With Data by Joe Marini\n",
    "# Programming challenge: use advanced data collections on the earthquake data\n",
    "\n",
    "import json\n",
    "import csv\n",
    "import datetime\n",
    "\n",
    "\n",
    "# open the data file and load the JSON\n",
    "with open(\"../../30DayQuakes.json\", \"r\") as datafile:\n",
    "    data = json.load(datafile)\n",
    "\n",
    "# Create a CSV file with the following information:\n",
    "# 40 most significant seismic events, ordered by most recent\n",
    "# Header row: Magnitude, Place, Felt Reports, Date, and Google Map link\n",
    "# Date should be in the format of YYYY-MM-DD\n",
    "\n",
    "# Function returns \"sig\" value\n",
    "def getsig(x):\n",
    "    sig = x[\"properties\"][\"sig\"]\n",
    "    return 0 if sig is None else sig\n",
    "\n",
    "# get the sorted data by sig-value\n",
    "significalevents = sorted(data[\"features\"], key=getsig, reverse=True)\n",
    "significalevents = significalevents[:40] # slice first 40 values only\n",
    "significalevents.sort(key=lambda e: e[\"properties\"][\"time\"], reverse=True) # sort the result by \"time\" value from JSON\n",
    "\n",
    "# create the header row for the CSV\n",
    "header = [\"Magnitude\", \"Place\", \"Felt Reports\", \"Date\", \"Link\"]\n",
    "rows = []\n",
    "\n",
    "for event in significalevents:\n",
    "    thedate = datetime.date.fromtimestamp(\n",
    "        int(event[\"properties\"][\"time\"])/1000)\n",
    "    lat = event[\"geometry\"][\"coordinates\"][1]\n",
    "    long = event[\"geometry\"][\"coordinates\"][0]\n",
    "    gmaplink = f\"https://maps.google.com/maps/search/?api=1&query={lat}%2C{long}\"\n",
    "\n",
    "    rows.append(\n",
    "        [event[\"properties\"][\"mag\"],\n",
    "         event[\"properties\"][\"place\"],\n",
    "         0 if event[\"properties\"][\"felt\"] is None else event[\"properties\"][\"felt\"],\n",
    "         thedate,\n",
    "         gmaplink\n",
    "         ]\n",
    "    )\n",
    "\n",
    "with open(\"significantevents.csv\",\"w\") as csvfile:\n",
    "    writer = csv.writer(csvfile, delimiter=',')\n",
    "    writer.writerow(header)\n",
    "    writer.writerows(rows)"
   ]
  },
  {
   "cell_type": "code",
   "execution_count": null,
   "metadata": {},
   "outputs": [],
   "source": []
  }
 ],
 "metadata": {
  "kernelspec": {
   "display_name": "Python 3",
   "language": "python",
   "name": "python3"
  },
  "language_info": {
   "codemirror_mode": {
    "name": "ipython",
    "version": 3
   },
   "file_extension": ".py",
   "mimetype": "text/x-python",
   "name": "python",
   "nbconvert_exporter": "python",
   "pygments_lexer": "ipython3",
   "version": "3.10.12"
  }
 },
 "nbformat": 4,
 "nbformat_minor": 2
}
