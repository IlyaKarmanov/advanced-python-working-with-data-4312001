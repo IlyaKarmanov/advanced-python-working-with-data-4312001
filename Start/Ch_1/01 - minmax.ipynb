{
 "cells": [
  {
   "cell_type": "code",
   "execution_count": 2,
   "metadata": {},
   "outputs": [],
   "source": [
    "# Example file for Advanced Python: Working With Data by Joe Marini\n",
    "# Demonstrates the usage of the min and max functions\n",
    "import json"
   ]
  },
  {
   "cell_type": "code",
   "execution_count": 3,
   "metadata": {},
   "outputs": [],
   "source": [
    "# Declare an array with some sample data in it\n",
    "values = [3.0, 2.5, 5.1, 4.1, 1.8, 1.6, 2.2, 5.7, 6.1]\n",
    "strings = [\"one\", \"three\", \"five\", \"seven\", \"eleven\", \"eighteen\"]"
   ]
  },
  {
   "cell_type": "code",
   "execution_count": 4,
   "metadata": {},
   "outputs": [
    {
     "name": "stdout",
     "output_type": "stream",
     "text": [
      "minimum value of numbers is : 1.6\n",
      "minimum value of chars is : eighteen\n"
     ]
    }
   ],
   "source": [
    "# TODO: The min() function finds the minimum value\n",
    "print(f'minimum value of numbers is : {min(values)}')\n",
    "print(f'minimum value of chars is : {min(strings)}') # alphabetic order"
   ]
  },
  {
   "cell_type": "code",
   "execution_count": 5,
   "metadata": {},
   "outputs": [
    {
     "name": "stdout",
     "output_type": "stream",
     "text": [
      "maximum value of numbers is : 6.1\n",
      "maximum value of chars is : three\n"
     ]
    }
   ],
   "source": [
    "# TODO: The max() function finds the maximum value\n",
    "print(f'maximum value of numbers is : {max(values)}')\n",
    "print(f'maximum value of chars is : {max(strings)}') # alphabetic order"
   ]
  },
  {
   "cell_type": "code",
   "execution_count": 6,
   "metadata": {},
   "outputs": [
    {
     "name": "stdout",
     "output_type": "stream",
     "text": [
      "minimum value of chars is : one\n",
      "maximum value of chars is : eighteen\n"
     ]
    }
   ],
   "source": [
    "# TODO: define a custom \"key\" function to extract a data field\n",
    "print(f'minimum value of chars is : {min(strings, key=len)}')\n",
    "print(f'maximum value of chars is : {max(strings, key=len)}') "
   ]
  },
  {
   "cell_type": "code",
   "execution_count": 7,
   "metadata": {},
   "outputs": [
    {
     "name": "stdout",
     "output_type": "stream",
     "text": [
      "USGS All Earthquakes, Past Month\n",
      "11745\n"
     ]
    }
   ],
   "source": [
    "# TODO: open the data file and load the JSON\n",
    "with open(\"../../30DayQuakes.json\", \"r\") as datafile:\n",
    "    data = json.load(datafile)\n",
    "\n",
    "print(data[\"metadata\"][\"title\"])\n",
    "print(len(data[\"features\"]))"
   ]
  },
  {
   "cell_type": "code",
   "execution_count": 8,
   "metadata": {},
   "outputs": [],
   "source": [
    "# using the function as a Key for min/max functions\n",
    "def getmag(dataitem):\n",
    "    magnitude = dataitem[\"properties\"][\"mag\"]\n",
    "    if (magnitude is None):\n",
    "        magnitude = 0\n",
    "    return float(magnitude)"
   ]
  },
  {
   "cell_type": "code",
   "execution_count": 9,
   "metadata": {},
   "outputs": [
    {
     "data": {
      "text/plain": [
       "{'type': 'Feature',\n",
       " 'properties': {'mag': -1.31,\n",
       "  'place': '94km SE of King Salmon, Alaska',\n",
       "  'time': 1583824105680,\n",
       "  'updated': 1583950679450,\n",
       "  'tz': -540,\n",
       "  'url': 'https://earthquake.usgs.gov/earthquakes/eventpage/av70876584',\n",
       "  'detail': 'https://earthquake.usgs.gov/earthquakes/feed/v1.0/detail/av70876584.geojson',\n",
       "  'felt': None,\n",
       "  'cdi': None,\n",
       "  'mmi': None,\n",
       "  'alert': None,\n",
       "  'status': 'reviewed',\n",
       "  'tsunami': 0,\n",
       "  'sig': 0,\n",
       "  'net': 'av',\n",
       "  'code': '70876584',\n",
       "  'ids': ',av70876584,',\n",
       "  'sources': ',av,',\n",
       "  'types': ',geoserve,origin,phase-data,',\n",
       "  'nst': 4,\n",
       "  'dmin': 0.04596,\n",
       "  'rms': 0.08,\n",
       "  'gap': 241,\n",
       "  'magType': 'ml',\n",
       "  'type': 'earthquake',\n",
       "  'title': 'M -1.3 - 94km SE of King Salmon, Alaska'},\n",
       " 'geometry': {'type': 'Point',\n",
       "  'coordinates': [-155.3741667, 58.1711667, 1.55]},\n",
       " 'id': 'av70876584'}"
      ]
     },
     "execution_count": 9,
     "metadata": {},
     "output_type": "execute_result"
    }
   ],
   "source": [
    "min(data[\"features\"],key=getmag)"
   ]
  },
  {
   "cell_type": "code",
   "execution_count": 10,
   "metadata": {},
   "outputs": [
    {
     "data": {
      "text/plain": [
       "{'type': 'Feature',\n",
       " 'properties': {'mag': 6.3,\n",
       "  'place': '298km NE of Raoul Island, New Zealand',\n",
       "  'time': 1584180077383,\n",
       "  'updated': 1584266633243,\n",
       "  'tz': -720,\n",
       "  'url': 'https://earthquake.usgs.gov/earthquakes/eventpage/us60008fl8',\n",
       "  'detail': 'https://earthquake.usgs.gov/earthquakes/feed/v1.0/detail/us60008fl8.geojson',\n",
       "  'felt': 3,\n",
       "  'cdi': 2.4,\n",
       "  'mmi': 0,\n",
       "  'alert': 'green',\n",
       "  'status': 'reviewed',\n",
       "  'tsunami': 1,\n",
       "  'sig': 611,\n",
       "  'net': 'us',\n",
       "  'code': '60008fl8',\n",
       "  'ids': ',us60008fl8,pt20074000,at00q76h61,',\n",
       "  'sources': ',us,pt,at,',\n",
       "  'types': ',associate,dyfi,geoserve,impact-link,losspager,moment-tensor,origin,phase-data,shakemap,',\n",
       "  'nst': None,\n",
       "  'dmin': 2.687,\n",
       "  'rms': 1.03,\n",
       "  'gap': 22,\n",
       "  'magType': 'mww',\n",
       "  'type': 'earthquake',\n",
       "  'title': 'M 6.3 - 298km NE of Raoul Island, New Zealand'},\n",
       " 'geometry': {'type': 'Point', 'coordinates': [-175.6847, -27.4196, 10]},\n",
       " 'id': 'us60008fl8'}"
      ]
     },
     "execution_count": 10,
     "metadata": {},
     "output_type": "execute_result"
    }
   ],
   "source": [
    "max(data[\"features\"],key=getmag)"
   ]
  }
 ],
 "metadata": {
  "kernelspec": {
   "display_name": "Python 3",
   "language": "python",
   "name": "python3"
  },
  "language_info": {
   "codemirror_mode": {
    "name": "ipython",
    "version": 3
   },
   "file_extension": ".py",
   "mimetype": "text/x-python",
   "name": "python",
   "nbconvert_exporter": "python",
   "pygments_lexer": "ipython3",
   "version": "3.10.12"
  }
 },
 "nbformat": 4,
 "nbformat_minor": 2
}
