{
 "cells": [
  {
   "cell_type": "code",
   "execution_count": 1,
   "metadata": {},
   "outputs": [],
   "source": [
    "# Example file for Advanced Python: Working With Data by Joe Marini\n",
    "# sorting data with the sorted() and sort() functions\n",
    "\n",
    "import json\n",
    "\n",
    "\n",
    "numbers = [42, 54, 19, 17, 23, 31, 16, 4]\n",
    "names = [\"Jeff\", \"Bill\", \"Addie\", \"Stephanie\", \"Zach\", \"Lukas\", \"Joe\", \"Stacy\"]"
   ]
  },
  {
   "cell_type": "code",
   "execution_count": 3,
   "metadata": {},
   "outputs": [
    {
     "name": "stdout",
     "output_type": "stream",
     "text": [
      "[4, 16, 17, 19, 23, 31, 42, 54]\n",
      "['Zach', 'Stephanie', 'Stacy', 'Lukas', 'Joe', 'Jeff', 'Bill', 'Addie']\n"
     ]
    }
   ],
   "source": [
    "# TODO: the sorted() function can be used to return a new list with sorted data\n",
    "result1 = sorted(numbers)\n",
    "print(result1)\n",
    "\n",
    "# TODO: alternately, you can use the list object's sort() method, which sorts the list in-place\n",
    "names.sort(reverse=True)\n",
    "print(names)\n"
   ]
  },
  {
   "cell_type": "code",
   "execution_count": 6,
   "metadata": {},
   "outputs": [
    {
     "name": "stdout",
     "output_type": "stream",
     "text": [
      "298km NE of Raoul Island, New Zealand\n",
      "246km S of Kangin, Indonesia\n",
      "97km NNW of Sola, Vanuatu\n",
      "172km E of Hihifo, Tonga\n",
      "24km SE of Saray, Turkey\n",
      "Southwest Indian Ridge\n",
      "48km NNW of Saumlaki, Indonesia\n",
      "26km ESE of Saray, Turkey\n",
      "153km ENE of Petropavlovsk-Kamchatskiy, Russia\n",
      "69km W of Petrolia, CA\n"
     ]
    }
   ],
   "source": [
    "\n",
    "# TODO: To sort custom objects, we can tell the sort function which property to use\n",
    "# by specifying a key function\n",
    "# \n",
    "# open the data file and load the JSON\n",
    "with open(\"../../30DayQuakes.json\", \"r\") as datafile:\n",
    "    data = json.load(datafile)\n",
    "\n",
    "def getmag(dataitem):\n",
    "    magnitude = dataitem[\"properties\"][\"mag\"]\n",
    "    if (magnitude is None):\n",
    "        magnitude = 0\n",
    "    return float(magnitude)\n",
    "\n",
    "data[\"features\"].sort(key=getmag, reverse=True)\n",
    "\n",
    "# print the first 10 values\n",
    "for i in range(0,10):\n",
    "    print(data[\"features\"][i][\"properties\"][\"place\"])"
   ]
  }
 ],
 "metadata": {
  "kernelspec": {
   "display_name": "Python 3",
   "language": "python",
   "name": "python3"
  },
  "language_info": {
   "codemirror_mode": {
    "name": "ipython",
    "version": 3
   },
   "file_extension": ".py",
   "mimetype": "text/x-python",
   "name": "python",
   "nbconvert_exporter": "python",
   "pygments_lexer": "ipython3",
   "version": "3.10.12"
  }
 },
 "nbformat": 4,
 "nbformat_minor": 2
}
