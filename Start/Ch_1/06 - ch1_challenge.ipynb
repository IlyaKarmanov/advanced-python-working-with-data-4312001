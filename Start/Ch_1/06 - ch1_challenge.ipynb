{
 "cells": [
  {
   "cell_type": "code",
   "execution_count": null,
   "metadata": {},
   "outputs": [],
   "source": [
    "# Example file for Advanced Python: Working With Data by Joe Marini\n",
    "# Programming challenge: summarize the earthquake data\n",
    "\n",
    "import json\n",
    "\n",
    "\n",
    "# for this challenge, we're going to summarize the earthquake data as follows:\n",
    "# 1: How many quakes are there in total?\n",
    "# 2: How many quakes were felt by at least 100 people?\n",
    "# 3: Print the name of the place whose quake was felt by the most people, with the # of reports\n",
    "# 4: Print the top 10 most significant events, with the significance value of each\n",
    "\n",
    "# open the data file and load the JSON\n",
    "with open(\"../../30DayQuakes.json\", \"r\") as datafile:\n",
    "    data = json.load(datafile)\n",
    "\n"
   ]
  },
  {
   "cell_type": "code",
   "execution_count": 20,
   "metadata": {},
   "outputs": [
    {
     "name": "stdout",
     "output_type": "stream",
     "text": [
      "Test\n",
      "11745\n",
      "28\n",
      "M 5.7 - 6km NNE of Magna, Utah\n",
      "33091\n"
     ]
    }
   ],
   "source": [
    "import json\n",
    "\n",
    "\n",
    "TotalEvents = 0\n",
    "TotalFelt = 0\n",
    "MostFeltEvent = \"\"\n",
    "MostFeltCount = 0\n",
    "\n",
    "def getFelt(dataitem):\n",
    "    felt = dataitem[\"properties\"][\"felt\"]\n",
    "    if (felt is None):\n",
    "        felt = 0\n",
    "    return float(felt)\n",
    "\n",
    "\n",
    "def calc_summary():\n",
    "    print('Test')\n",
    "    global TotalEvents, TotalFelt, MostFeltEvent, MostFeltCount\n",
    "    # open the data file and load the JSON\n",
    "    with open(\"../../30DayQuakes.json\", \"r\") as datafile:\n",
    "        data = json.load(datafile)\n",
    "\n",
    "    # YOUR CODE GOES HERE\n",
    "    # Calculate the values\n",
    "    TotalEvents = len(list(data[\"features\"]))\n",
    "\n",
    "    TotalFelt = sum(quake[\"properties\"][\"felt\"] \n",
    "          is not None and quake[\"properties\"][\"felt\"] >= 100\n",
    "          for quake in data[\"features\"])\n",
    "\n",
    "    MostFeltEvent = max(data[\"features\"], key=getFelt)[\"properties\"][\"title\"]\n",
    "    MostFeltCount = int(max(data[\"features\"], key=getFelt)[\"properties\"][\"felt\"])\n",
    "    \n",
    "calc_summary()\n",
    "\n",
    "print(TotalEvents)\n",
    "print(TotalFelt)\n",
    "print(MostFeltEvent)\n",
    "print(MostFeltCount)\n",
    "    "
   ]
  }
 ],
 "metadata": {
  "kernelspec": {
   "display_name": "Python 3",
   "language": "python",
   "name": "python3"
  },
  "language_info": {
   "codemirror_mode": {
    "name": "ipython",
    "version": 3
   },
   "file_extension": ".py",
   "mimetype": "text/x-python",
   "name": "python",
   "nbconvert_exporter": "python",
   "pygments_lexer": "ipython3",
   "version": "3.10.12"
  }
 },
 "nbformat": 4,
 "nbformat_minor": 2
}
