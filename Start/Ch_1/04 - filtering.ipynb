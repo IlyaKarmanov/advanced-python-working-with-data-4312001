{
 "cells": [
  {
   "cell_type": "code",
   "execution_count": 1,
   "metadata": {},
   "outputs": [],
   "source": [
    "# Example file for Advanced Python: Working With Data by Joe Marini\n",
    "# using the filter() function to filter a data set\n",
    "\n",
    "import json\n",
    "\n",
    "\n",
    "def filterEvens(x):\n",
    "    # filters out even numbers and keeps odd numbers\n",
    "    if x % 2 == 0:\n",
    "        return False\n",
    "    return True\n",
    "\n",
    "\n",
    "def filterUppers(x):\n",
    "    # filters out upper-case letters and keeps lower case letters\n",
    "    if x.isupper():\n",
    "        return False\n",
    "    return True\n",
    "\n",
    "\n",
    "# define some sample sequences to operate on\n",
    "nums = (1, 8, 4, 5, 13, 26, 381, 410, 58, 47)\n",
    "chars = \"abcDeFGHiJklmnoP\""
   ]
  },
  {
   "cell_type": "code",
   "execution_count": 2,
   "metadata": {},
   "outputs": [
    {
     "name": "stdout",
     "output_type": "stream",
     "text": [
      "[1, 5, 13, 381, 47]\n",
      "['a', 'b', 'c', 'e', 'i', 'k', 'l', 'm', 'n', 'o']\n"
     ]
    }
   ],
   "source": [
    "# TODO: use filter to remove items from a list\n",
    "odds = list(filter(filterEvens, nums))\n",
    "print(odds)\n",
    "\n",
    "# TODO: use filter on non-numeric sequence\n",
    "lowers = list(filter(filterUppers, chars))\n",
    "print(lowers)"
   ]
  },
  {
   "cell_type": "code",
   "execution_count": 4,
   "metadata": {},
   "outputs": [
    {
     "name": "stdout",
     "output_type": "stream",
     "text": [
      "Total non-quake evens: 187\n",
      "explosion\n",
      "quarry blast\n",
      "explosion\n",
      "explosion\n",
      "explosion\n",
      "quarry blast\n",
      "explosion\n",
      "explosion\n",
      "explosion\n",
      "explosion\n"
     ]
    }
   ],
   "source": [
    "# Use the filter on our data - let's filter out all seismic events that were *not* quakes\n",
    "# open the data file and load the JSON\n",
    "\n",
    "with open(\"../../30DayQuakes.json\", \"r\") as datafile:\n",
    "    data = json.load(datafile)\n",
    "\n",
    "def notAQuake(q):\n",
    "    if q[\"properties\"][\"type\"] == \"earthquake\":\n",
    "        return False\n",
    "    return True\n",
    "\n",
    "events = list(filter(notAQuake, data[\"features\"]))\n",
    "print(f\"Total non-quake evens: {len(events)}\")\n",
    "\n",
    "for i in range(0,10):\n",
    "    print(events[i][\"properties\"][\"type\"])"
   ]
  }
 ],
 "metadata": {
  "kernelspec": {
   "display_name": "Python 3",
   "language": "python",
   "name": "python3"
  },
  "language_info": {
   "codemirror_mode": {
    "name": "ipython",
    "version": 3
   },
   "file_extension": ".py",
   "mimetype": "text/x-python",
   "name": "python",
   "nbconvert_exporter": "python",
   "pygments_lexer": "ipython3",
   "version": "3.10.12"
  }
 },
 "nbformat": 4,
 "nbformat_minor": 2
}
