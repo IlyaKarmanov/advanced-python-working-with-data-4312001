{
 "cells": [
  {
   "cell_type": "code",
   "execution_count": 9,
   "metadata": {},
   "outputs": [],
   "source": [
    "# Example file for Advanced Python: Working With Data by Joe Marini\n",
    "# using the map() function to transform data to another form\n",
    "\n",
    "import json\n",
    "import pprint\n",
    "import datetime\n",
    "\n",
    "def squareFunc(x):\n",
    "    return x**2\n",
    "\n",
    "\n",
    "def toGrade(x):\n",
    "    if (x >= 90):\n",
    "        return \"A\"\n",
    "    elif (x >= 80 and x < 90):\n",
    "        return \"B\"\n",
    "    elif (x >= 70 and x < 80):\n",
    "        return \"C\"\n",
    "    elif (x >= 65 and x < 70):\n",
    "        return \"D\"\n",
    "    return \"F\"\n",
    "\n",
    "\n",
    "# define some sample sequences to operate on\n",
    "nums = (1, 8, 4, 5, 13, 26, 381, 410, 58, 47)\n",
    "grades = (81, 89, 94, 78, 61, 66, 99, 74)"
   ]
  },
  {
   "cell_type": "code",
   "execution_count": 7,
   "metadata": {},
   "outputs": [
    {
     "name": "stdout",
     "output_type": "stream",
     "text": [
      "[1, 64, 16, 25, 169, 676, 145161, 168100, 3364, 2209]\n"
     ]
    }
   ],
   "source": [
    "# TODO: use map to create a new sequence of values\n",
    "squares = list(map(squareFunc, nums))\n",
    "print(squares)"
   ]
  },
  {
   "cell_type": "code",
   "execution_count": 8,
   "metadata": {},
   "outputs": [
    {
     "name": "stdout",
     "output_type": "stream",
     "text": [
      "['F', 'D', 'C', 'C', 'B', 'B', 'A', 'A']\n"
     ]
    }
   ],
   "source": [
    "# TODO: use sorted and map to change numbers to grades\n",
    "grades = sorted(grades)\n",
    "letters = list(map(toGrade, grades))\n",
    "print(letters)"
   ]
  },
  {
   "cell_type": "code",
   "execution_count": 12,
   "metadata": {},
   "outputs": [
    {
     "name": "stdout",
     "output_type": "stream",
     "text": [
      "[{'place': '246km S of Kangin, Indonesia',\n",
      "  'magnitude': 6.2,\n",
      "  'date': '2020-03-18'},\n",
      " {'place': '97km NNW of Sola, Vanuatu', 'magnitude': 6.1, 'date': '2020-03-18'},\n",
      " {'place': '172km E of Hihifo, Tonga', 'magnitude': 6, 'date': '2020-03-17'},\n",
      " {'place': '298km NE of Raoul Island, New Zealand',\n",
      "  'magnitude': 6.3,\n",
      "  'date': '2020-03-14'},\n",
      " {'place': '24km SE of Saray, Turkey', 'magnitude': 6, 'date': '2020-02-23'}]\n"
     ]
    }
   ],
   "source": [
    "# Use the filter on our data - let's filter out all seismic events that were *not* quakes\n",
    "# open the data file and load the JSON\n",
    "with open(\"../../30DayQuakes.json\", \"r\") as datafile:\n",
    "    data = json.load(datafile)\n",
    "\n",
    "\n",
    "# filter the data down to the largest events\n",
    "def bigmag(q):\n",
    "    return q['properties']['mag'] is not None and q['properties']['mag'] >= 6\n",
    "\n",
    "\n",
    "results = list(filter(bigmag, data['features']))\n",
    "\n",
    "# TODO: transform the largest events into a simpler structure\n",
    "def simplify(q):\n",
    "    return{\n",
    "        \"place\": q[\"properties\"][\"place\"],\n",
    "        \"magnitude\": q[\"properties\"][\"mag\"],\n",
    "        \"date\": str(datetime.date.fromtimestamp(q[\"properties\"][\"time\"]/1000))\n",
    "    }\n",
    "\n",
    "\n",
    "results = list(map(simplify, results))\n",
    "pprint.pp(results)"
   ]
  }
 ],
 "metadata": {
  "kernelspec": {
   "display_name": "Python 3",
   "language": "python",
   "name": "python3"
  },
  "language_info": {
   "codemirror_mode": {
    "name": "ipython",
    "version": 3
   },
   "file_extension": ".py",
   "mimetype": "text/x-python",
   "name": "python",
   "nbconvert_exporter": "python",
   "pygments_lexer": "ipython3",
   "version": "3.10.12"
  }
 },
 "nbformat": 4,
 "nbformat_minor": 2
}
