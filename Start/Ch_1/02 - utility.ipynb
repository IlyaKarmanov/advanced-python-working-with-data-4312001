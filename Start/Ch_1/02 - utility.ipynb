{
 "cells": [
  {
   "cell_type": "code",
   "execution_count": 1,
   "metadata": {},
   "outputs": [],
   "source": [
    "# Example file for Advanced Python: Working With Data by Joe Marini\n",
    "# demonstrates the use of the any, all, and sum functions\n",
    "import json\n",
    "\n",
    "values = [0, 1, 2, 3, 4, 5]"
   ]
  },
  {
   "cell_type": "code",
   "execution_count": 3,
   "metadata": {},
   "outputs": [
    {
     "name": "stdout",
     "output_type": "stream",
     "text": [
      "True\n",
      "True\n",
      "True\n"
     ]
    }
   ],
   "source": [
    "# TODO: any() can be used to see if any value in a sequence is True\n",
    "print(any(values))\n",
    "\n",
    "# TODO: all() will detect if all of the values in a sequence are True\n",
    "print(any(values))\n",
    "\n",
    "# TODO: sum() can be use to add all of the values in a sequence\n",
    "print(any(values))"
   ]
  },
  {
   "cell_type": "code",
   "execution_count": 6,
   "metadata": {},
   "outputs": [
    {
     "name": "stdout",
     "output_type": "stream",
     "text": [
      "True\n",
      "12\n",
      "5\n"
     ]
    }
   ],
   "source": [
    "# these utility functions don't have callbacks like min or max,\n",
    "# but we can use a generator for more fine control\n",
    "\n",
    "# open the data file and load the JSON\n",
    "with open(\"../../30DayQuakes.json\", \"r\") as datafile:\n",
    "    data = json.load(datafile)\n",
    "\n",
    "# TODO: are there any quake reports that were felt by more than 25,000 people?\n",
    "print(any(quake[\"properties\"][\"felt\"]   # quake - is the variable, then path in JSON\n",
    "          is not None and quake[\"properties\"][\"felt\"] > 25000  # conditions\n",
    "          for quake in data[\"features\"]))  # dataset definition\n",
    "\n",
    "# TODO: how many quakes were felt by more than 500 people?\n",
    "print(sum(quake[\"properties\"][\"felt\"] \n",
    "          is not None and quake[\"properties\"][\"felt\"] >= 500\n",
    "          for quake in data[\"features\"]))\n",
    "\n",
    "# TODO: how many quakes had a magnitude of 6 or larger?\n",
    "print(sum(quake[\"properties\"][\"mag\"] \n",
    "          is not None and quake[\"properties\"][\"mag\"] >= 6\n",
    "          for quake in data[\"features\"]))"
   ]
  },
  {
   "cell_type": "code",
   "execution_count": null,
   "metadata": {},
   "outputs": [],
   "source": []
  }
 ],
 "metadata": {
  "kernelspec": {
   "display_name": "Python 3",
   "language": "python",
   "name": "python3"
  },
  "language_info": {
   "codemirror_mode": {
    "name": "ipython",
    "version": 3
   },
   "file_extension": ".py",
   "mimetype": "text/x-python",
   "name": "python",
   "nbconvert_exporter": "python",
   "pygments_lexer": "ipython3",
   "version": "3.10.12"
  }
 },
 "nbformat": 4,
 "nbformat_minor": 2
}
